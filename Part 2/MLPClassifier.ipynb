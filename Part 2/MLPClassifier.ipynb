{
 "nbformat": 4,
 "nbformat_minor": 0,
 "metadata": {
  "colab": {
   "provenance": []
  },
  "kernelspec": {
   "name": "python3",
   "display_name": "Python 3"
  },
  "language_info": {
   "name": "python"
  }
 },
 "cells": [
  {
   "cell_type": "code",
   "source": [
    "import numpy as np\n",
    "from sklearn.datasets import fetch_openml\n",
    "from sklearn.pipeline import make_pipeline\n",
    "from sklearn.preprocessing import StandardScaler\n",
    "from sklearn.neural_network import MLPClassifier\n",
    "\n",
    "X, y = fetch_openml('mnist_784', version=1, return_X_y=True, parser='auto')\n",
    "X = X / 255.0\n",
    "y = y.cat.codes\n",
    "\n",
    "X_train, X_test = X[:60000], X[60000:]\n",
    "y_train, y_test = y[:60000], y[60000:]\n",
    "\n",
    "hyp_params = {\n",
    "    'hidden_layer_sizes': [(50,), (100,), (50, 50)],\n",
    "    'activation': ['relu', 'logistic', 'tanh'],\n",
    "    'alpha': [0.0001, 0.00001, 0.001, 0.01],\n",
    "    'learning_rate_init': [0.001, 0.0001, 0.01]\n",
    "}\n",
    "\n",
    "def_hyp_params = {hyp: val_list[0] for hyp, val_list in hyp_params.items()}\n",
    "results = {}"
   ],
   "metadata": {
    "id": "wuuPDIl3SthT"
   },
   "execution_count": null,
   "outputs": []
  },
  {
   "cell_type": "code",
   "source": [
    "def test_classifier(parameters):\n",
    "    clf = make_pipeline(StandardScaler(),\n",
    "                        MLPClassifier(**parameters))\n",
    "    clf.fit(X=X_train, y=y_train)\n",
    "    y_pred = clf.predict(X_test)\n",
    "    error = np.abs(y_pred - y_test).astype(bool)\n",
    "    accuracy = 100 - (error.sum()*100/len(error))\n",
    "    print(accuracy)\n",
    "    return accuracy\n",
    "\n",
    "\n",
    "for hyp, val_list in hyp_params.items():\n",
    "    print(\"Now tweaking {}\".format(hyp))\n",
    "    res_list = []\n",
    "    def_hyp_params_copy = def_hyp_params.copy()\n",
    "    for val in val_list[1:]:\n",
    "        def_hyp_params_copy[hyp] = val\n",
    "        print(\"Set {} to {}\".format(hyp, val))\n",
    "        res_list.append(test_classifier(parameters=def_hyp_params_copy))\n",
    "    results[hyp] = res_list"
   ],
   "metadata": {
    "colab": {
     "base_uri": "https://localhost:8080/"
    },
    "id": "RL06KentSxuW",
    "outputId": "ef2c9e1a-0966-456a-988f-cc6bc079c5e4"
   },
   "execution_count": null,
   "outputs": [
    {
     "output_type": "stream",
     "name": "stdout",
     "text": [
      "Now tweaking hidden_layer_sizes\n",
      "Set hidden_layer_sizes to (100,)\n",
      "97.42\n",
      "Set hidden_layer_sizes to (50, 50)\n",
      "96.85\n",
      "Now tweaking activation\n",
      "Set activation to logistic\n",
      "95.85\n",
      "Set activation to tanh\n",
      "95.0\n",
      "Now tweaking alpha\n",
      "Set alpha to 1e-05\n",
      "97.05\n",
      "Set alpha to 0.001\n",
      "97.12\n",
      "Set alpha to 0.01\n",
      "97.07\n",
      "Now tweaking learning_rate_init\n",
      "Set learning_rate_init to 0.0001\n",
      "96.71\n",
      "Set learning_rate_init to 0.01\n",
      "96.4\n"
     ]
    }
   ]
  },
  {
   "cell_type": "code",
   "source": [
    "results"
   ],
   "metadata": {
    "colab": {
     "base_uri": "https://localhost:8080/"
    },
    "id": "eVr0AG1sS89C",
    "outputId": "5f0f1347-fbcc-4df4-94a8-74c871cd4837"
   },
   "execution_count": null,
   "outputs": [
    {
     "output_type": "execute_result",
     "data": {
      "text/plain": [
       "{'hidden_layer_sizes': [97.5, 97.13],\n",
       " 'activation': [95.5, 95.42],\n",
       " 'alpha': [96.99, 97.13, 97.18],\n",
       " 'learning_rate_init': [96.7, 96.66]}"
      ]
     },
     "metadata": {},
     "execution_count": 3
    }
   ]
  },
  {
   "cell_type": "markdown",
   "source": [
    "Defining baseline accuracy..."
   ],
   "metadata": {
    "id": "m-T5czFWfX71"
   }
  },
  {
   "cell_type": "code",
   "source": [
    "baseline = test_classifier(def_hyp_params)"
   ],
   "metadata": {
    "colab": {
     "base_uri": "https://localhost:8080/"
    },
    "id": "QzpODOS4dOIP",
    "outputId": "449804c0-0a05-4998-e23a-1ec3c57e84ca"
   },
   "execution_count": null,
   "outputs": [
    {
     "output_type": "stream",
     "name": "stdout",
     "text": [
      "96.94\n"
     ]
    }
   ]
  },
  {
   "cell_type": "code",
   "source": [
    "def_hyp_params"
   ],
   "metadata": {
    "id": "7gFY8JiAdjDd",
    "colab": {
     "base_uri": "https://localhost:8080/"
    },
    "outputId": "ea4ea0e8-b416-48f0-da8e-d01b1596a46b"
   },
   "execution_count": null,
   "outputs": [
    {
     "output_type": "execute_result",
     "data": {
      "text/plain": [
       "{'hidden_layer_sizes': (50,),\n",
       " 'activation': 'relu',\n",
       " 'alpha': 0.0001,\n",
       " 'learning_rate_init': 0.001}"
      ]
     },
     "metadata": {},
     "execution_count": 4
    }
   ]
  },
  {
   "cell_type": "code",
   "source": [],
   "metadata": {
    "id": "6OrumPw62Irq"
   },
   "execution_count": null,
   "outputs": []
  }
 ]
}
