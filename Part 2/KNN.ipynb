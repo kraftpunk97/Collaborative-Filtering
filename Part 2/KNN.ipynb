{
 "nbformat": 4,
 "nbformat_minor": 0,
 "metadata": {
  "colab": {
   "provenance": []
  },
  "kernelspec": {
   "name": "python3",
   "display_name": "Python 3"
  },
  "language_info": {
   "name": "python"
  }
 },
 "cells": [
  {
   "cell_type": "code",
   "execution_count": null,
   "metadata": {
    "id": "LwMmIH1bTQdl"
   },
   "outputs": [],
   "source": [
    "import numpy as np\n",
    "from sklearn.datasets import fetch_openml\n",
    "from sklearn.pipeline import make_pipeline\n",
    "from sklearn.preprocessing import StandardScaler\n",
    "from sklearn.neighbors import KNeighborsClassifier\n",
    "\n",
    "X, y = fetch_openml('mnist_784', version=1, return_X_y=True, parser='auto')\n",
    "X = X / 255.0\n",
    "y = y.cat.codes\n",
    "\n",
    "X_train, X_test = X[:60000], X[60000:]\n",
    "y_train, y_test = y[:60000], y[60000:]"
   ]
  },
  {
   "cell_type": "code",
   "source": [
    "def test_classifier(parameters):\n",
    "    print(parameters)\n",
    "    clf = make_pipeline(StandardScaler(),\n",
    "                        KNeighborsClassifier(**parameters))\n",
    "    clf.fit(X=X_train, y=y_train)\n",
    "    y_pred = clf.predict(X_test)\n",
    "    error = np.abs(y_pred - y_test).astype(bool)\n",
    "    accuracy = 100 - (error.sum()*100/len(error))\n",
    "    print(accuracy)\n",
    "    print()\n",
    "    return accuracy\n",
    "\n",
    "\n",
    "hyp_params = {\n",
    "    'n_neighbors': [5, 1, 50, 100, 500, 1000],\n",
    "    'algorithm': ['ball_tree', 'kd_tree', 'brute'],\n",
    "    'weights': ['uniform', 'distance'],\n",
    "    'p': [2, 1]\n",
    "}\n",
    "\n",
    "def_hyp_params = {hyp: val_list[0] for hyp, val_list in hyp_params.items()}\n",
    "results = {}"
   ],
   "metadata": {
    "id": "KYh-J8N6TX4k"
   },
   "execution_count": null,
   "outputs": []
  },
  {
   "cell_type": "code",
   "source": [
    "for hyp, val_list in hyp_params.items():\n",
    "    print(\"Now tweaking {}\".format(hyp))\n",
    "    print()\n",
    "    print()\n",
    "    res_list = []\n",
    "    def_hyp_params_copy = def_hyp_params.copy()\n",
    "    for val in val_list[1:]:\n",
    "        def_hyp_params_copy[hyp] = val\n",
    "        print(\"Set {} to {}\".format(hyp, val))\n",
    "        res_list.append(test_classifier(parameters=def_hyp_params_copy))\n",
    "    results[hyp] = res_list"
   ],
   "metadata": {
    "colab": {
     "base_uri": "https://localhost:8080/"
    },
    "id": "VMXUXpKwZIFP",
    "outputId": "fec21fee-908c-4e54-ff66-1b11e1684a33"
   },
   "execution_count": null,
   "outputs": [
    {
     "output_type": "stream",
     "name": "stdout",
     "text": [
      "Now tweaking n_neighbors\n",
      "\n",
      "\n",
      "Set n_neighbors to 1\n",
      "{'n_neighbors': 1, 'algorithm': 'ball_tree', 'weights': 'uniform', 'p': 2}\n",
      "94.34\n",
      "\n",
      "Set n_neighbors to 50\n",
      "{'n_neighbors': 50, 'algorithm': 'ball_tree', 'weights': 'uniform', 'p': 2}\n",
      "92.19\n",
      "\n",
      "Set n_neighbors to 100\n",
      "{'n_neighbors': 100, 'algorithm': 'ball_tree', 'weights': 'uniform', 'p': 2}\n",
      "90.77\n",
      "\n",
      "Set n_neighbors to 500\n",
      "{'n_neighbors': 500, 'algorithm': 'ball_tree', 'weights': 'uniform', 'p': 2}\n",
      "86.46000000000001\n",
      "\n",
      "Set n_neighbors to 1000\n",
      "{'n_neighbors': 1000, 'algorithm': 'ball_tree', 'weights': 'uniform', 'p': 2}\n",
      "82.8\n",
      "\n",
      "Now tweaking algorithm\n",
      "\n",
      "\n",
      "Set algorithm to kd_tree\n",
      "{'n_neighbors': 5, 'algorithm': 'kd_tree', 'weights': 'uniform', 'p': 2}\n",
      "94.43\n",
      "\n",
      "Set algorithm to brute\n",
      "{'n_neighbors': 5, 'algorithm': 'brute', 'weights': 'uniform', 'p': 2}\n",
      "94.43\n",
      "\n",
      "Now tweaking weights\n",
      "\n",
      "\n",
      "Set weights to distance\n",
      "{'n_neighbors': 5, 'algorithm': 'ball_tree', 'weights': 'distance', 'p': 2}\n",
      "94.5\n",
      "\n",
      "Now tweaking p\n",
      "\n",
      "\n",
      "Set p to 1\n",
      "{'n_neighbors': 5, 'algorithm': 'ball_tree', 'weights': 'uniform', 'p': 1}\n",
      "95.73\n",
      "\n"
     ]
    }
   ]
  },
  {
   "cell_type": "code",
   "source": [
    "results"
   ],
   "metadata": {
    "colab": {
     "base_uri": "https://localhost:8080/"
    },
    "id": "QWRvSm4kZiI9",
    "outputId": "507d67e5-b6ad-40a0-f1e4-a19e777de16a"
   },
   "execution_count": null,
   "outputs": [
    {
     "output_type": "execute_result",
     "data": {
      "text/plain": [
       "{'n_neighbors': [94.34, 92.19, 90.77, 86.46000000000001, 82.8],\n",
       " 'algorithm': [94.43, 94.43],\n",
       " 'weights': [94.5],\n",
       " 'p': [95.73]}"
      ]
     },
     "metadata": {},
     "execution_count": 4
    }
   ]
  },
  {
   "cell_type": "markdown",
   "source": [
    "Defining baseline accuracy..."
   ],
   "metadata": {
    "id": "mAQWET_ffOhM"
   }
  },
  {
   "cell_type": "code",
   "source": [
    "baseline = test_classifier(def_hyp_params)"
   ],
   "metadata": {
    "colab": {
     "base_uri": "https://localhost:8080/"
    },
    "id": "a5XZBgJuQCDE",
    "outputId": "82ba891c-ac13-4605-c3de-ee66c5820a9e"
   },
   "execution_count": null,
   "outputs": [
    {
     "output_type": "stream",
     "name": "stdout",
     "text": [
      "{'n_neighbors': 5, 'algorithm': 'ball_tree', 'weights': 'uniform', 'p': 2}\n",
      "94.43\n",
      "\n"
     ]
    }
   ]
  },
  {
   "cell_type": "code",
   "source": [],
   "metadata": {
    "id": "fCMdBF5m7vy-"
   },
   "execution_count": null,
   "outputs": []
  }
 ]
}
