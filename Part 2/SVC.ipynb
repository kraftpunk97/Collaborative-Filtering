{
 "nbformat": 4,
 "nbformat_minor": 0,
 "metadata": {
  "colab": {
   "provenance": []
  },
  "kernelspec": {
   "name": "python3",
   "display_name": "Python 3"
  },
  "language_info": {
   "name": "python"
  }
 },
 "cells": [
  {
   "cell_type": "code",
   "execution_count": 1,
   "metadata": {
    "id": "AlOuwXOGZ_mt"
   },
   "outputs": [],
   "source": [
    "import numpy as np\n",
    "from sklearn.datasets import fetch_openml\n",
    "from sklearn.pipeline import make_pipeline\n",
    "from sklearn.preprocessing import StandardScaler\n",
    "from sklearn.svm import SVC\n",
    "\n",
    "X, y = fetch_openml('mnist_784', version=1, return_X_y=True, parser='auto')\n",
    "X = X / 255.0\n",
    "y = y.cat.codes\n",
    "\n",
    "X_train, X_test = X[:60000], X[60000:]\n",
    "y_train, y_test = y[:60000], y[60000:]"
   ]
  },
  {
   "cell_type": "code",
   "source": [
    "def test_classifier(parameters):\n",
    "    print(parameters)\n",
    "    clf = make_pipeline(StandardScaler(),\n",
    "                        SVC(**parameters))\n",
    "    clf.fit(X=X_train, y=y_train)\n",
    "    y_pred = clf.predict(X_test)\n",
    "    error = np.abs(y_pred - y_test).astype(bool)\n",
    "    accuracy = 100 - (error.sum()*100/len(error))\n",
    "    print(accuracy)\n",
    "    print()\n",
    "    return accuracy\n",
    "\n",
    "\n",
    "hyp_params = {\n",
    "    'C': [1, 0.1, 10, 0.01],\n",
    "    'kernel': ['sigmoid', 'rbf', 'poly', 'linear'],\n",
    "    'gamma': ['scale', 'auto']\n",
    "}\n",
    "\n",
    "def_hyp_params = {hyp: val_list[0] for hyp, val_list in hyp_params.items()}\n",
    "results = {}"
   ],
   "metadata": {
    "id": "oTdjiVvTaCkw"
   },
   "execution_count": 2,
   "outputs": []
  },
  {
   "cell_type": "code",
   "source": [
    "def_hyp_params"
   ],
   "metadata": {
    "colab": {
     "base_uri": "https://localhost:8080/"
    },
    "id": "uAB7WmngfugT",
    "outputId": "fbce4e3c-2e3b-42d0-f368-8fdf0b136925"
   },
   "execution_count": 6,
   "outputs": [
    {
     "output_type": "execute_result",
     "data": {
      "text/plain": [
       "{'C': 1, 'kernel': 'sigmoid', 'gamma': 'scale'}"
      ]
     },
     "metadata": {},
     "execution_count": 6
    }
   ]
  },
  {
   "cell_type": "code",
   "source": [
    "for hyp, val_list in hyp_params.items():\n",
    "    print(\"Now tweaking {}\".format(hyp))\n",
    "    print()\n",
    "    print()\n",
    "    res_list = []\n",
    "    def_hyp_params_copy = def_hyp_params.copy()\n",
    "    for val in val_list[1:]:\n",
    "        def_hyp_params_copy[hyp] = val\n",
    "        if hyp == 'gamma':\n",
    "            def_hyp_params_copy['kernel'] = 'rbf'\n",
    "            print(\"Set {} to {} and kernel to rbf\".format(hyp, val))\n",
    "        else:\n",
    "            print(\"Set {} to {}\".format(hyp, val))\n",
    "        res_list.append(test_classifier(parameters=def_hyp_params_copy))\n",
    "    results[hyp] = res_list"
   ],
   "metadata": {
    "colab": {
     "base_uri": "https://localhost:8080/"
    },
    "id": "RVZH5arYRF-V",
    "outputId": "7e9eb6b9-c0b8-41b2-96c2-b359d91417eb"
   },
   "execution_count": null,
   "outputs": [
    {
     "output_type": "stream",
     "name": "stdout",
     "text": [
      "Now tweaking C\n",
      "\n",
      "\n",
      "Set C to 0.1\n",
      "{'C': 0.1, 'kernel': 'sigmoid', 'gamma': 'scale'}\n",
      "91.75\n",
      "\n",
      "Set C to 10\n",
      "{'C': 10, 'kernel': 'sigmoid', 'gamma': 'scale'}\n",
      "86.74\n",
      "\n",
      "Set C to 0.01\n",
      "{'C': 0.01, 'kernel': 'sigmoid', 'gamma': 'scale'}\n",
      "89.64\n",
      "\n",
      "Now tweaking kernel\n",
      "\n",
      "\n",
      "Set kernel to rbf\n",
      "{'C': 1, 'kernel': 'rbf', 'gamma': 'scale'}\n",
      "96.61\n",
      "\n",
      "Set kernel to poly\n",
      "{'C': 1, 'kernel': 'poly', 'gamma': 'scale'}\n",
      "96.11\n",
      "\n",
      "Set kernel to linear\n",
      "{'C': 1, 'kernel': 'linear', 'gamma': 'scale'}\n",
      "92.93\n",
      "\n",
      "Now tweaking gamma\n",
      "\n",
      "\n",
      "Set gamma to auto and gamma to rbf\n",
      "{'C': 1, 'kernel': 'rbf', 'gamma': 'auto'}\n",
      "96.66\n",
      "\n"
     ]
    }
   ]
  },
  {
   "cell_type": "code",
   "source": [
    "results"
   ],
   "metadata": {
    "colab": {
     "base_uri": "https://localhost:8080/"
    },
    "id": "dXO6bgkvTrCm",
    "outputId": "76207d52-43eb-4100-c95e-24e4b18599df"
   },
   "execution_count": null,
   "outputs": [
    {
     "output_type": "execute_result",
     "data": {
      "text/plain": [
       "{'C': [91.75, 86.74, 89.64], 'kernel': [96.61, 96.11, 92.93], 'gamma': [96.66]}"
      ]
     },
     "metadata": {},
     "execution_count": 4
    }
   ]
  },
  {
   "cell_type": "markdown",
   "source": [
    "Defining baseline accuracy"
   ],
   "metadata": {
    "id": "47TtBMQNe58E"
   }
  },
  {
   "cell_type": "code",
   "source": [
    "baseline = test_classifier(def_hyp_params)"
   ],
   "metadata": {
    "colab": {
     "base_uri": "https://localhost:8080/"
    },
    "id": "bvBcLSDdTvTk",
    "outputId": "2318ac01-8f6a-419a-a84c-ff257491c0e4"
   },
   "execution_count": null,
   "outputs": [
    {
     "output_type": "stream",
     "name": "stdout",
     "text": [
      "{'C': 1, 'kernel': 'sigmoid', 'gamma': 'scale'}\n",
      "89.1\n",
      "\n"
     ]
    }
   ]
  },
  {
   "cell_type": "markdown",
   "source": [
    "Tweaking the `degree`paramater using the polynominal kernel."
   ],
   "metadata": {
    "id": "UIqAsuy9fCCs"
   }
  },
  {
   "cell_type": "code",
   "source": [
    "def_hyp_params_copy = def_hyp_params.copy()\n",
    "def_hyp_params_copy['kernel'] = 'poly'\n",
    "def_hyp_params_copy['degree'] = 2\n",
    "print(\"Now tweaking degree\")\n",
    "print(\"Set {} to {} and kernel to poly\".format('degree', 2))\n",
    "test_classifier(def_hyp_params_copy)"
   ],
   "metadata": {
    "id": "9Uv71pTvpiYW",
    "colab": {
     "base_uri": "https://localhost:8080/"
    },
    "outputId": "a79a352a-185a-4318-a2b9-2d7b5a8a01da"
   },
   "execution_count": 3,
   "outputs": [
    {
     "output_type": "stream",
     "name": "stdout",
     "text": [
      "Now tweaking degree\n",
      "Set degree to 2 and kernel to poly\n",
      "{'C': 1, 'kernel': 'poly', 'gamma': 'scale', 'degree': 2}\n",
      "97.14\n",
      "\n"
     ]
    },
    {
     "output_type": "execute_result",
     "data": {
      "text/plain": [
       "97.14"
      ]
     },
     "metadata": {},
     "execution_count": 3
    }
   ]
  },
  {
   "cell_type": "code",
   "source": [
    "def_hyp_params_copy = def_hyp_params.copy()\n",
    "def_hyp_params_copy['kernel'] = 'poly'\n",
    "def_hyp_params_copy['degree'] = 4\n",
    "print(\"Now tweaking degree\")\n",
    "print(\"Set {} to {} and kernel to poly\".format('degree', 4))\n",
    "test_classifier(def_hyp_params_copy)"
   ],
   "metadata": {
    "colab": {
     "base_uri": "https://localhost:8080/"
    },
    "id": "xJ-y6pP3Z0VY",
    "outputId": "94e54298-d8fd-4125-8b64-490ef1ff042f"
   },
   "execution_count": 7,
   "outputs": [
    {
     "output_type": "stream",
     "name": "stdout",
     "text": [
      "Now tweaking degree\n",
      "Set degree to 4 and kernel to poly\n",
      "{'C': 1, 'kernel': 'poly', 'gamma': 'scale', 'degree': 4}\n",
      "89.62\n",
      "\n"
     ]
    },
    {
     "output_type": "execute_result",
     "data": {
      "text/plain": [
       "89.62"
      ]
     },
     "metadata": {},
     "execution_count": 7
    }
   ]
  },
  {
   "cell_type": "code",
   "source": [],
   "metadata": {
    "id": "6nJNKNJJfse1"
   },
   "execution_count": null,
   "outputs": []
  }
 ]
}
